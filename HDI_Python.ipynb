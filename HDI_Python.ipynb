{
 "cells": [
  {
   "cell_type": "code",
   "execution_count": 1,
   "id": "9805c3d1",
   "metadata": {},
   "outputs": [],
   "source": [
    "import pandas as pd"
   ]
  },
  {
   "cell_type": "code",
   "execution_count": 2,
   "id": "8bb5685f",
   "metadata": {},
   "outputs": [],
   "source": [
    "HDI = pd.read_excel(r'D:\\PopulationTrendsHDI.xlsx')"
   ]
  },
  {
   "cell_type": "code",
   "execution_count": 3,
   "id": "19812020",
   "metadata": {},
   "outputs": [
    {
     "name": "stdout",
     "output_type": "stream",
     "text": [
      "     HDIRank                   Country  TotalPopMillions2019  \\\n",
      "0          1                    Norway              5.378859   \n",
      "1          2                   Ireland              4.882498   \n",
      "2          2               Switzerland              8.591361   \n",
      "3          4    Hong Kong, China (SAR)              7.436157   \n",
      "4          4                   Iceland              0.339037   \n",
      "..       ...                       ...                   ...   \n",
      "184      185                   Burundi             11.530577   \n",
      "185      185               South Sudan             11.062114   \n",
      "186      187                      Chad             15.946882   \n",
      "187      188  Central African Republic              4.745179   \n",
      "188      189                     Niger             23.310719   \n",
      "\n",
      "     TotalPopMillions2030Projected  AverageAnnualGrowthPercent05To10  \\\n",
      "0                         5.875922                             1.066   \n",
      "1                         5.248039                             1.902   \n",
      "2                         9.185114                             1.111   \n",
      "3                         8.018674                             0.573   \n",
      "4                         0.359709                             1.649   \n",
      "..                             ...                               ...   \n",
      "184                      15.772827                             3.276   \n",
      "185                      13.839272                             4.650   \n",
      "186                      21.690376                             3.374   \n",
      "187                       5.942207                             1.655   \n",
      "188                      34.846019                             3.786   \n",
      "\n",
      "     AverageAnnualGrowthPercent15To20  UrbanPopPercent2019  \\\n",
      "0                               0.834                 82.6   \n",
      "1                               1.191                 63.4   \n",
      "2                               0.845                 73.8   \n",
      "3                               0.847                100.0   \n",
      "4                               0.656                 93.9   \n",
      "..                                ...                  ...   \n",
      "184                             3.146                 13.4   \n",
      "185                             0.873                 19.9   \n",
      "186                             3.038                 23.3   \n",
      "187                             1.445                 41.8   \n",
      "188                             3.816                 16.5   \n",
      "\n",
      "     Pop5AndYounger2019  Pop15To642019  Pop65AndOlder2019  MedianAge2020  \\\n",
      "0              0.301197       3.513165           0.929073         39.836   \n",
      "1              0.321521       3.155396           0.694436         38.246   \n",
      "2              0.448925       5.689315           1.618437         43.053   \n",
      "3              0.345330       5.218336           1.301201         44.790   \n",
      "4              0.020713       0.220924           0.051502         37.491   \n",
      "..                  ...            ...                ...            ...   \n",
      "184            2.018697       6.029025           0.266595         17.320   \n",
      "185            1.697857       6.090267           0.373544         19.040   \n",
      "186            2.871728       8.083064           0.397341         16.554   \n",
      "187            0.730857       2.527527           0.133567         17.611   \n",
      "188            4.642084      11.086839           0.605315         15.151   \n",
      "\n",
      "     DependencyRatioAge0To142019  DependencyRatioAge65+2019  \\\n",
      "0                         26.660                     26.445   \n",
      "1                         32.727                     22.008   \n",
      "2                         22.562                     28.447   \n",
      "3                         17.565                     24.935   \n",
      "4                         30.151                     23.312   \n",
      "..                           ...                        ...   \n",
      "184                       86.829                      4.422   \n",
      "185                       75.502                      6.133   \n",
      "186                       92.372                      4.916   \n",
      "187                       82.455                      5.284   \n",
      "188                      104.796                      5.460   \n",
      "\n",
      "     TotalFertilityRate05To10  TotalFertilityRate15To20  \n",
      "0                      1.9235                    1.6800  \n",
      "1                      2.0034                    1.8409  \n",
      "2                      1.4692                    1.5350  \n",
      "3                      1.0362                    1.3262  \n",
      "4                      2.1305                    1.7700  \n",
      "..                        ...                       ...  \n",
      "184                    6.3900                    5.4500  \n",
      "185                    5.6000                    4.7359  \n",
      "186                    6.8530                    5.7973  \n",
      "187                    5.3000                    4.7541  \n",
      "188                    7.5500                    6.9500  \n",
      "\n",
      "[189 rows x 15 columns]\n"
     ]
    }
   ],
   "source": [
    "print(HDI)"
   ]
  },
  {
   "cell_type": "code",
   "execution_count": null,
   "id": "9994d957",
   "metadata": {},
   "outputs": [],
   "source": []
  }
 ],
 "metadata": {
  "kernelspec": {
   "display_name": "Python 3 (ipykernel)",
   "language": "python",
   "name": "python3"
  },
  "language_info": {
   "codemirror_mode": {
    "name": "ipython",
    "version": 3
   },
   "file_extension": ".py",
   "mimetype": "text/x-python",
   "name": "python",
   "nbconvert_exporter": "python",
   "pygments_lexer": "ipython3",
   "version": "3.9.12"
  }
 },
 "nbformat": 4,
 "nbformat_minor": 5
}
